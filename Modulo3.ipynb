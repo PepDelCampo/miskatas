{
 "cells": [
  {
   "cell_type": "markdown",
   "metadata": {},
   "source": [
    "# Kata 3\n"
   ]
  },
  {
   "cell_type": "markdown",
   "metadata": {},
   "source": [
    "# Problema No. 1\n",
    "Añadir el código necesario para crear una variable que guarde la velocidad del asteroide.\n",
    "\n",
    "Escribe una expresión de prueba para calcular si necesita una advertencia.\n",
    "\n",
    "Agregue las instrucciones que se ejecutarán si la expresión de prueba es true o false."
   ]
  },
  {
   "cell_type": "code",
   "execution_count": 10,
   "metadata": {},
   "outputs": [
    {
     "name": "stdout",
     "output_type": "stream",
     "text": [
      "¡Peligro, hay un asteroide aproximándose a velocidad de: 49  km/h!\n"
     ]
    }
   ],
   "source": [
    "asteroide = 49\n",
    "if asteroide > 25:\n",
    " print('¡Peligro, hay un asteroide aproximándose a velocidad de:',asteroide,' km/h!')\n",
    "else:\n",
    " print('Todo sereno, no hay peligro en el aire')"
   ]
  },
  {
   "cell_type": "markdown",
   "metadata": {},
   "source": [
    "# Problema No. 2\n",
    "Agrega el código para crear una variable para un asteroide que viaja a 19 km/s\n",
    "\n",
    "Escribe varias expresiones de prueba para determinar si puedes ver el rayo de luz desde la tierra\n",
    "\n",
    "Agrega las instrucciones que se ejecutarán si las expresiones de prueba son True o False"
   ]
  },
  {
   "cell_type": "code",
   "execution_count": 13,
   "metadata": {},
   "outputs": [
    {
     "name": "stdout",
     "output_type": "stream",
     "text": [
      "Hay un misterioso rayo en el cielo\n"
     ]
    }
   ],
   "source": [
    "asteroide = 20\n",
    "if asteroide > 20:\n",
    " print('Hay un misterioso rayo en el cielo')\n",
    "elif asteroide == 20:\n",
    " print('Hay un misterioso rayo en el cielo')\n",
    "else:\n",
    " print('Todo sereno')"
   ]
  },
  {
   "cell_type": "markdown",
   "metadata": {},
   "source": [
    "# Problema No. 3\n",
    "Agrega el código para crear nuevas variables para la velocidad y el tamaño del asteroide\n",
    "\n",
    "Para probar el código, prueba con varias velocidades y tamaños\n",
    "\n",
    "Escribe varias expresiones de prueba o combinaciones de expresiones de prueba para determinar qué mensaje se debe enviar a Tierra."
   ]
  },
  {
   "cell_type": "code",
   "execution_count": 17,
   "metadata": {},
   "outputs": [
    {
     "name": "stdout",
     "output_type": "stream",
     "text": [
      "Hay un misterioso rayo en el cielo\n"
     ]
    }
   ],
   "source": [
    "velocidad_asteroide = 25\n",
    "diametro_asteroide = 40\n",
    "if velocidad_asteroide > 25 and diametro_asteroide > 25:\n",
    " print('¡Peligro, hay un asteroide aproximándose a velocidad de:',velocidad_asteroide,' km/h con un diametro de:',diametro_asteroide,' metros')\n",
    "elif velocidad_asteroide >= 20:\n",
    " print('Hay un misterioso rayo en el cielo')\n",
    "elif diametro_asteroide < 25:\n",
    " print('Todo sereno')\n",
    "else:\n",
    " print('Todo sereno')"
   ]
  }
 ],
 "metadata": {
  "interpreter": {
   "hash": "2d8a740277f67c33143a8e5c8e55f738530a350d8def4a85d8635b690074994c"
  },
  "kernelspec": {
   "display_name": "Python 3.7.9 64-bit",
   "language": "python",
   "name": "python3"
  },
  "language_info": {
   "codemirror_mode": {
    "name": "ipython",
    "version": 3
   },
   "file_extension": ".py",
   "mimetype": "text/x-python",
   "name": "python",
   "nbconvert_exporter": "python",
   "pygments_lexer": "ipython3",
   "version": "3.7.9"
  },
  "orig_nbformat": 4
 },
 "nbformat": 4,
 "nbformat_minor": 2
}
