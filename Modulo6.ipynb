{
 "cells": [
  {
   "cell_type": "code",
   "execution_count": 2,
   "metadata": {},
   "outputs": [
    {
     "name": "stdout",
     "output_type": "stream",
     "text": [
      "There are 8 planets\n",
      "Pluto is the last planet\n",
      "Here are the planets closer than Mars\n",
      "['Mercury', 'Venus', 'Earth']\n",
      "Here are the planets further than Mars\n",
      "['Jupiter', 'Saturn', 'Neptune']\n"
     ]
    }
   ],
   "source": [
    "#Ejercicio 1\n",
    "# Creamos la lista planets y la mostramos\n",
    "planets = ['Mercury', 'Venus', 'Earth', 'Mars', 'Jupiter', 'Saturn',\n",
    "'Uranus', 'Neptune']\n",
    "print('There are', len(planets), 'planets')\n",
    "# Agregamos a plutón y mostramos el último elemento\n",
    "planets.append('Pluto')\n",
    "print(planets[-1], 'is the last planet')\n",
    "#Ejercicio 2\n",
    "# Lista de planetas\n",
    "planets = ['Mercury', 'Venus', 'Earth', 'Mars', 'Jupiter', 'Saturn',\n",
    "'Neptune']\n",
    "# Solicitamos el nombre de un planeta *Pista: input()*\n",
    "user_planet = input('Please enter the name of the planet (with a capital letter to start)')\n",
    "# Busca el planeta en la lista\n",
    "planet_index = planets.index(user_planet)\n",
    "# Muestra los planetas más cercanos al sol\n",
    "print('Here are the planets closer than ' + user_planet)\n",
    "print(planets[0:planet_index])\n",
    "# Muestra los planetas más lejanos al sol\n",
    "print('Here are the planets further than ' + user_planet)\n",
    "print(planets[planet_index + 1:])"
   ]
  }
 ],
 "metadata": {
  "interpreter": {
   "hash": "2d8a740277f67c33143a8e5c8e55f738530a350d8def4a85d8635b690074994c"
  },
  "kernelspec": {
   "display_name": "Python 3.7.9 64-bit",
   "language": "python",
   "name": "python3"
  },
  "language_info": {
   "codemirror_mode": {
    "name": "ipython",
    "version": 3
   },
   "file_extension": ".py",
   "mimetype": "text/x-python",
   "name": "python",
   "nbconvert_exporter": "python",
   "pygments_lexer": "ipython3",
   "version": "3.7.9"
  },
  "orig_nbformat": 4
 },
 "nbformat": 4,
 "nbformat_minor": 2
}
