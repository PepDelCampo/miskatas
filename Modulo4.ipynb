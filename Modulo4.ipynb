{
 "cells": [
  {
   "cell_type": "markdown",
   "metadata": {},
   "source": [
    "# Kata 4\n",
    "Ejercicio 1: Transformar cadenas\n"
   ]
  },
  {
   "cell_type": "code",
   "execution_count": 4,
   "metadata": {},
   "outputs": [
    {
     "data": {
      "text/plain": [
       "['Datos interesantes sobre la Luna',\n",
       " 'La Luna es el único satélite de la Tierra',\n",
       " 'Hay varios datos interesantes sobre la Luna y cómo afecta a la vida en la Tierra',\n",
       " 'En promedio, la Luna se aleja 4 cm de la Tierra cada año',\n",
       " 'Este desplazamiento anual no es lo suficientemente significativo como para causar efectos inmediatos en la Tierra',\n",
       " 'La temperatura diurna más alta de la Luna es de 127 C.']"
      ]
     },
     "execution_count": 4,
     "metadata": {},
     "output_type": "execute_result"
    }
   ],
   "source": [
    "texto = \"Datos interesantes sobre la Luna. La Luna es el único satélite de la Tierra. Hay varios datos interesantes sobre la Luna y cómo afecta a la vida en la Tierra. En promedio, la Luna se aleja 4 cm de la Tierra cada año. Este desplazamiento anual no es lo suficientemente significativo como para causar efectos inmediatos en la Tierra. La temperatura diurna más alta de la Luna es de 127 C.\"\n",
    "\n",
    "partes_de_texto = texto.split('. ')\n",
    "partes_de_texto"
   ]
  },
  {
   "cell_type": "code",
   "execution_count": 5,
   "metadata": {},
   "outputs": [
    {
     "name": "stdout",
     "output_type": "stream",
     "text": [
      "La Luna es el único satélite de la Tierra\n",
      "Hay varios datos interesantes sobre la Luna y cómo afecta a la vida en la Tierra\n",
      "En promedio, la Luna se aleja 4 cm de la Tierra cada año\n",
      "Este desplazamiento anual no es lo suficientemente significativo como para causar efectos inmediatos en la Tierra\n",
      "La temperatura diurna más alta de la Luna es de 127 C.\n",
      "La Luna es el único satélite de la Tierra\n",
      "Hay varios datos interesantes sobre la Luna y cómo afecta a la vida en la Tierra\n",
      "En promedio, la Luna se aleja 4 cm de la Tierra cada año\n",
      "Este desplazamiento anual no es lo suficientemente significativo como para causar efectos inmediatos en la Tierra\n",
      "La temperatura diurna más alta de la Luna es de 127 Celsius.\n"
     ]
    }
   ],
   "source": [
    "\n",
    "# Palabras clave\n",
    "palabras_clave = [\"promedio\", \"temperatura\", \"distancia\"]\n",
    "# Ciclo for para recorrer la cadena\n",
    "for oracion in partes_de_texto:\n",
    "    for palabras_clave in palabras_clave:\n",
    "        if palabras_clave in oracion:\n",
    "            print(oracion)\n",
    "            break\n",
    "# Ciclo para cambiar C a Celsius\n",
    "for oracion in partes_de_texto:\n",
    "    for key_word in palabras_clave:\n",
    "        if palabras_clave in oracion:\n",
    "            print(oracion.replace(' C', ' Celsius'))\n",
    "            break"
   ]
  },
  {
   "cell_type": "markdown",
   "metadata": {},
   "source": [
    "Ejercicio 2: Formateando Cadenas"
   ]
  },
  {
   "cell_type": "code",
   "execution_count": 16,
   "metadata": {},
   "outputs": [
    {
     "name": "stdout",
     "output_type": "stream",
     "text": [
      "--------------------------------------------------------------------------------\n",
      "Nombre del planeta: Tierra \n",
      "Gravedad en Luna: 1.6199999999999999 m/s2\n",
      "\n",
      "--------------------------------------------------------------------------------\n",
      "Nombre del planeta: Tierra \n",
      "Gravedad en Luna: 1.6199999999999999 m/s2\n",
      "\n",
      "\n",
      "Datos de Gravedad sobre: Ganímedes\n",
      "-------------------------------------------------------------------------\n",
      "------\n",
      "Nombre del planeta: Marte \n",
      "Gravedad en Ganímedes: 0.00143 km/s2\n",
      "\n",
      "\n",
      "Datos de Gravedad sobre: Ganímedes\n",
      "-------------------------------------------------------------------------\n",
      "------\n",
      "Nombre del planeta: Marte \n",
      "Gravedad en Ganímedes: 1.4300000000000002 km/s2\n",
      "\n"
     ]
    }
   ],
   "source": [
    "#Ejercicio 2\n",
    "# Datos con los que vamos a trabajar\n",
    "planeta = 'Tierra '\n",
    "gravedad = 0.00162\n",
    "nombre = 'Luna'\n",
    "# Creamos el título\n",
    "title = f'datos de gravedad sobre {nombre}'\n",
    "# Creamos la plantilla\n",
    "hechos = f\"\"\"{'-'*80}\n",
    "Nombre del planeta: {planeta}\n",
    "Gravedad en {nombre}: {gravedad * 1000} m/s2\n",
    "\"\"\"\n",
    "# Unión de ambas cadenas\n",
    "template = f\"\"\"{title.title()}\n",
    "{hechos}\n",
    "\"\"\"\n",
    "print(hechos)\n",
    "# Nuevos datos muestra\n",
    "planeta = 'Marte '\n",
    "gravedad = 0.00143\n",
    "nombre = 'Ganímedes'\n",
    "# Comprobamos la plantilla\n",
    "print(hechos)\n",
    "new_template = \"\"\"\n",
    "Datos de Gravedad sobre: {nombre}\n",
    "-------------------------------------------------------------------------\n",
    "------\n",
    "Nombre del planeta: {planeta}\n",
    "Gravedad en {nombre}: {gravedad} m/s2\n",
    "\"\"\"\n",
    "print(new_template.format(nombre=nombre, planeta=planeta,\n",
    "gravedad=gravedad))\n",
    "# Pista: print(nueva_plantilla.format(variables))\n",
    "print(new_template.format(nombre=nombre, planeta=planeta,\n",
    "gravedad=gravedad*1000))"
   ]
  }
 ],
 "metadata": {
  "interpreter": {
   "hash": "2d8a740277f67c33143a8e5c8e55f738530a350d8def4a85d8635b690074994c"
  },
  "kernelspec": {
   "display_name": "Python 3.7.9 64-bit",
   "language": "python",
   "name": "python3"
  },
  "language_info": {
   "codemirror_mode": {
    "name": "ipython",
    "version": 3
   },
   "file_extension": ".py",
   "mimetype": "text/x-python",
   "name": "python",
   "nbconvert_exporter": "python",
   "pygments_lexer": "ipython3",
   "version": "3.7.9"
  },
  "orig_nbformat": 4
 },
 "nbformat": 4,
 "nbformat_minor": 2
}
